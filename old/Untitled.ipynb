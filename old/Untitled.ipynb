{
 "cells": [
  {
   "cell_type": "code",
   "execution_count": 1,
   "id": "dc6540aa-7dae-4c4b-8248-61a706ab7deb",
   "metadata": {},
   "outputs": [],
   "source": [
    "import numpy as np\n",
    "def print_chess_board(positions):\n",
    "    n = len(positions)\n",
    "    board = [['.' for _ in range(n)] for _ in range(n)]\n",
    "    \n",
    "    for row in range(n):\n",
    "        col = positions[row] - 1\n",
    "        board[row][col] = 'Q'\n",
    "    \n",
    "    for row in board:\n",
    "        print(' '.join(row))"
   ]
  },
  {
   "cell_type": "code",
   "execution_count": 2,
   "id": "1b91fad0-0295-4f2d-af8e-f132bd964429",
   "metadata": {},
   "outputs": [
    {
     "name": "stdout",
     "output_type": "stream",
     "text": [
      "[[1 0 0 0 0 0 0 0 0 0]\n",
      " [0 0 1 0 0 0 0 0 0 0]\n",
      " [0 0 0 0 0 1 0 0 0 0]\n",
      " [0 0 0 0 0 0 0 0 1 0]\n",
      " [0 0 0 0 0 0 1 0 0 0]\n",
      " [0 0 0 0 0 0 0 0 0 1]\n",
      " [0 0 0 1 0 0 0 0 0 0]\n",
      " [0 1 0 0 0 0 0 0 0 0]\n",
      " [0 0 0 0 1 0 0 0 0 0]\n",
      " [0 0 0 0 0 0 0 1 0 0]]\n"
     ]
    }
   ],
   "source": [
    "def create_matrix(arr):\n",
    "    size = len(arr)\n",
    "    matrix = np.zeros((size, size), dtype=int)\n",
    "    for i in range(size):\n",
    "        matrix[i][arr[i]-1] = 1\n",
    "    return matrix\n",
    "\n",
    "arr = [1, 3, 6, 9, 7, 10, 4, 2, 5, 8]\n",
    "result = create_matrix(arr)\n",
    "print(result)"
   ]
  },
  {
   "cell_type": "code",
   "execution_count": 3,
   "id": "761ad7d7-d374-404e-85be-639677aa33aa",
   "metadata": {},
   "outputs": [
    {
     "name": "stdout",
     "output_type": "stream",
     "text": [
      "Q . . . . . . . . .\n",
      ". . Q . . . . . . .\n",
      ". . . . . Q . . . .\n",
      ". . . . . . . . Q .\n",
      ". . . . . . Q . . .\n",
      ". . . . . . . . . Q\n",
      ". . . Q . . . . . .\n",
      ". Q . . . . . . . .\n",
      ". . . . Q . . . . .\n",
      ". . . . . . . Q . .\n"
     ]
    }
   ],
   "source": [
    "positions = [1, 3, 6, 9, 7, 10, 4, 2, 5, 8]\n",
    "\n",
    "print_chess_board(positions)"
   ]
  },
  {
   "cell_type": "code",
   "execution_count": 4,
   "id": "5750e152-d4e4-4672-97a5-8fb63214e9fc",
   "metadata": {},
   "outputs": [],
   "source": [
    "def is_valid(arr, pos, num):\n",
    "    for i in range(pos):\n",
    "        if arr[i] == num or abs(arr[i] - num) == abs(i - pos):\n",
    "            return False\n",
    "    return True"
   ]
  },
  {
   "cell_type": "code",
   "execution_count": 5,
   "id": "abb6d251-7979-43bb-913d-11aa65183fa2",
   "metadata": {},
   "outputs": [],
   "source": [
    "def solve_nqueens(arr, pos, i, solutions):\n",
    "    n = len(arr)\n",
    "    if pos == n:\n",
    "        solutions.append(arr[:])  \n",
    "        i += 1\n",
    "        return i\n",
    "\n",
    "    for num in range(1, n+1):\n",
    "        if is_valid(arr, pos, num):\n",
    "            arr[pos] = num\n",
    "            i = solve_nqueens(arr, pos + 1, i, solutions)\n",
    "            solutions.append(arr[:])\n",
    "            i += 1\n",
    "            arr[pos] = -1\n",
    "    return i"
   ]
  },
  {
   "cell_type": "code",
   "execution_count": 8,
   "id": "24e422fe-f158-4f9a-9921-548e3ac4222f",
   "metadata": {},
   "outputs": [
    {
     "name": "stdout",
     "output_type": "stream",
     "text": [
      "1   [1, 3, 5, 2, 4]\n",
      "2   [1, 3, 5, 2, 4]\n",
      "3   [1, 3, 5, 2, -1]\n",
      "4   [1, 3, 5, -1, -1]\n",
      "5   [1, 3, -1, -1, -1]\n",
      "6   [1, 4, 2, 5, 3]\n",
      "7   [1, 4, 2, 5, 3]\n",
      "8   [1, 4, 2, 5, -1]\n",
      "9   [1, 4, 2, -1, -1]\n",
      "10   [1, 4, -1, -1, -1]\n",
      "11   [1, 5, 2, -1, -1]\n",
      "12   [1, 5, -1, -1, -1]\n",
      "13   [1, -1, -1, -1, -1]\n",
      "14   [2, 4, 1, 3, 5]\n",
      "15   [2, 4, 1, 3, 5]\n",
      "16   [2, 4, 1, 3, -1]\n",
      "17   [2, 4, 1, -1, -1]\n",
      "18   [2, 4, -1, -1, -1]\n",
      "19   [2, 5, 1, 4, -1]\n",
      "20   [2, 5, 1, -1, -1]\n",
      "21   [2, 5, 3, 1, 4]\n",
      "22   [2, 5, 3, 1, 4]\n",
      "23   [2, 5, 3, 1, -1]\n",
      "24   [2, 5, 3, -1, -1]\n",
      "25   [2, 5, -1, -1, -1]\n",
      "26   [2, -1, -1, -1, -1]\n",
      "27   [3, 1, 4, 2, 5]\n",
      "28   [3, 1, 4, 2, 5]\n",
      "29   [3, 1, 4, 2, -1]\n",
      "30   [3, 1, 4, -1, -1]\n",
      "31   [3, 1, -1, -1, -1]\n",
      "32   [3, 5, 2, 4, 1]\n",
      "33   [3, 5, 2, 4, 1]\n",
      "34   [3, 5, 2, 4, -1]\n",
      "35   [3, 5, 2, -1, -1]\n",
      "36   [3, 5, -1, -1, -1]\n",
      "37   [3, -1, -1, -1, -1]\n",
      "38   [4, 1, 3, 5, 2]\n",
      "39   [4, 1, 3, 5, 2]\n",
      "40   [4, 1, 3, 5, -1]\n",
      "41   [4, 1, 3, -1, -1]\n",
      "42   [4, 1, 5, 2, -1]\n",
      "43   [4, 1, 5, -1, -1]\n",
      "44   [4, 1, -1, -1, -1]\n",
      "45   [4, 2, 5, 3, 1]\n",
      "46   [4, 2, 5, 3, 1]\n",
      "47   [4, 2, 5, 3, -1]\n",
      "48   [4, 2, 5, -1, -1]\n",
      "49   [4, 2, -1, -1, -1]\n",
      "50   [4, -1, -1, -1, -1]\n",
      "51   [5, 1, 4, -1, -1]\n",
      "52   [5, 1, -1, -1, -1]\n",
      "53   [5, 2, 4, 1, 3]\n",
      "54   [5, 2, 4, 1, 3]\n",
      "55   [5, 2, 4, 1, -1]\n",
      "56   [5, 2, 4, -1, -1]\n",
      "57   [5, 2, -1, -1, -1]\n",
      "58   [5, 3, 1, 4, 2]\n",
      "59   [5, 3, 1, 4, 2]\n",
      "60   [5, 3, 1, 4, -1]\n",
      "61   [5, 3, 1, -1, -1]\n",
      "62   [5, 3, -1, -1, -1]\n",
      "63   [5, -1, -1, -1, -1]\n"
     ]
    }
   ],
   "source": [
    "arr = [-1] * 5\n",
    "\n",
    "solutions = []\n",
    "solve_nqueens(arr, 0, 1, solutions)\n",
    "\n",
    "for i, solution in enumerate(solutions, start=1):\n",
    "    print(i, \" \", solution)"
   ]
  },
  {
   "cell_type": "code",
   "execution_count": 9,
   "id": "34420369-52c5-40e9-9ea3-f264ed78309b",
   "metadata": {},
   "outputs": [
    {
     "name": "stdout",
     "output_type": "stream",
     "text": [
      "1   [1, 3, 5, 2, 4]\n",
      "2   [1, 4, 2, 5, 3]\n",
      "3   [1, 5, 2, -1, -1]\n",
      "4   [2, 4, 1, 3, 5]\n",
      "5   [2, 5, 1, 4, -1]\n",
      "6   [2, 5, 3, 1, 4]\n",
      "7   [3, 1, 4, 2, 5]\n",
      "8   [3, 5, 2, 4, 1]\n",
      "9   [4, 1, 3, 5, 2]\n",
      "10   [4, 1, 5, 2, -1]\n",
      "11   [4, 2, 5, 3, 1]\n",
      "12   [5, 1, 4, -1, -1]\n",
      "13   [5, 2, 4, 1, 3]\n",
      "14   [5, 3, 1, 4, 2]\n"
     ]
    }
   ],
   "source": [
    "def clean(solutions):\n",
    "    n = len(solutions)\n",
    "    i = 1\n",
    "    while i < len(solutions) :\n",
    "        current_solution = solutions[i]\n",
    "        previous_solution = solutions[i - 1]\n",
    "\n",
    "        if all(current_solution[j] == -1 or current_solution[j] == previous_solution[j] for j in range(len(current_solution))):\n",
    "            solutions.pop(i)\n",
    "        else:\n",
    "            i += 1\n",
    "\n",
    "clean(solutions)\n",
    "\n",
    "for i, solution in enumerate(solutions, start=1):\n",
    "    print(i, \" \", solution)"
   ]
  },
  {
   "cell_type": "code",
   "execution_count": null,
   "id": "c269623b-c804-4432-b38d-5815cf9c2f93",
   "metadata": {},
   "outputs": [],
   "source": []
  }
 ],
 "metadata": {
  "kernelspec": {
   "display_name": "Python 3 (ipykernel)",
   "language": "python",
   "name": "python3"
  },
  "language_info": {
   "codemirror_mode": {
    "name": "ipython",
    "version": 3
   },
   "file_extension": ".py",
   "mimetype": "text/x-python",
   "name": "python",
   "nbconvert_exporter": "python",
   "pygments_lexer": "ipython3",
   "version": "3.8.10"
  }
 },
 "nbformat": 4,
 "nbformat_minor": 5
}
