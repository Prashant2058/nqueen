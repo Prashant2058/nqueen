{
 "cells": [
  {
   "cell_type": "code",
   "execution_count": 1,
   "id": "a2ebac30",
   "metadata": {},
   "outputs": [
    {
     "name": "stdout",
     "output_type": "stream",
     "text": [
      "[2, 4, 1, 3]\n",
      "[3, 1, 4, 2]\n"
     ]
    }
   ],
   "source": [
    "def NQueens(k, n, x):\n",
    "    for i in range(1, n + 1):  # Iterate over all rows (1 to n)\n",
    "        if place(k, i, x):\n",
    "            x[k] = i  # Place the queen at (k, i)\n",
    "            if k == n:\n",
    "                print(x[1:])  # Print the solution (1-based index)\n",
    "            else:\n",
    "                NQueens(k + 1, n, x)  # Recur to place the next queen\n",
    "\n",
    "def place(k, i, x):\n",
    "    for j in range(1, k):  # Check previous queens\n",
    "        if x[j] == i or abs(x[j] - i) == abs(j - k):\n",
    "            return False  # If same column or diagonal conflict, return False\n",
    "    return True\n",
    "\n",
    "def solve_nqueens(n):\n",
    "    x = [0] * (n + 1)  # Initialize the solution array (1-based index)\n",
    "    NQueens(1, n, x)  # Start placing queens from the first column\n",
    "\n",
    "# Example usage:\n",
    "n = 4\n",
    "solve_nqueens(n)"
   ]
  },
  {
   "cell_type": "code",
   "execution_count": null,
   "id": "ff5e0c47",
   "metadata": {},
   "outputs": [],
   "source": []
  }
 ],
 "metadata": {
  "kernelspec": {
   "display_name": "Python 3 (ipykernel)",
   "language": "python",
   "name": "python3"
  },
  "language_info": {
   "codemirror_mode": {
    "name": "ipython",
    "version": 3
   },
   "file_extension": ".py",
   "mimetype": "text/x-python",
   "name": "python",
   "nbconvert_exporter": "python",
   "pygments_lexer": "ipython3",
   "version": "3.11.2"
  }
 },
 "nbformat": 4,
 "nbformat_minor": 5
}
