import numpy as np
import set_up as sp


def NQueens(k, n, x,solutions):
    for i in range(1, n + 1):  # Iterate over all rows (1 to n)
        if place(k, i, x):
            x[k] = i  # Place the queen at (k, i)
            if k == n:
                solutions.append(x[1:])
                #print(x[1:])  # Print the solution (1-based index)
            else:
                NQueens(k + 1, n, x,solutions)  # Recur to place the next queen



def place(k, i, x):
    for j in range(1, k):  # Check previous queens
        if x[j] == i or abs(x[j] - i) == abs(j - k):
            return False  # If same column or diagonal conflict, return False
    return True



def solve_nqueens(n,solutions):
    x = [0] * (n + 1)  # Initialize the solution array (1-based index)
    NQueens(1, n, x,solutions)  # Start placing queens from the first column


solutions = []
n = 8
solve_nqueens(n,solutions)


for i, solution in enumerate(solutions, start=1):
    print(i, " ", solution)


def create_matrix(arr):
    size = len(arr)
    matrix = np.zeros((size, size), dtype=int)
    for i in range(size):
        matrix[i][arr[i]-1] = 1
    return matrix


for i, solution in enumerate(solutions, start=1):
    result = create_matrix(solution)
    sp.display_board(result)



