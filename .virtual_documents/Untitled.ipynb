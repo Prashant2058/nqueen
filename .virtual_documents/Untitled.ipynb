import numpy as np
def print_chess_board(positions):
    n = len(positions)
    board = [['.' for _ in range(n)] for _ in range(n)]
    
    for row in range(n):
        col = positions[row] - 1
        board[row][col] = 'Q'
    
    for row in board:
        print(' '.join(row))


def create_matrix(arr):
    size = len(arr)
    matrix = np.zeros((size, size), dtype=int)
    for i in range(size):
        matrix[i][arr[i]-1] = 1
    return matrix

arr = [1, 3, 6, 9, 7, 10, 4, 2, 5, 8]
result = create_matrix(arr)
print(result)


positions = [1, 3, 6, 9, 7, 10, 4, 2, 5, 8]

print_chess_board(positions)


def is_valid(arr, pos, num):
    for i in range(pos):
        if arr[i] == num or abs(arr[i] - num) == abs(i - pos):
            return False
    return True


def solve_nqueens(arr, pos, i, solutions):
    n = len(arr)
    if pos == n:
        solutions.append(arr[:])  
        i += 1
        return i

    for num in range(1, n+1):
        if is_valid(arr, pos, num):
            arr[pos] = num
            i = solve_nqueens(arr, pos + 1, i, solutions)
            solutions.append(arr[:])
            i += 1
            arr[pos] = -1
    return i


arr = [-1] * 5

solutions = []
solve_nqueens(arr, 0, 1, solutions)

for i, solution in enumerate(solutions, start=1):
    print(i, " ", solution)


def clean(solutions):
    n = len(solutions)
    i = 1
    while i < len(solutions) :
        current_solution = solutions[i]
        previous_solution = solutions[i - 1]

        if all(current_solution[j] == -1 or current_solution[j] == previous_solution[j] for j in range(len(current_solution))):
            solutions.pop(i)
        else:
            i += 1

clean(solutions)

for i, solution in enumerate(solutions, start=1):
    print(i, " ", solution)



